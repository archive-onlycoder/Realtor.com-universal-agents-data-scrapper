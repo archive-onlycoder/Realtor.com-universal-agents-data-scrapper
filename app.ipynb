{
 "cells": [
  {
   "cell_type": "code",
   "execution_count": null,
   "metadata": {},
   "outputs": [],
   "source": [
    "# importing libraries\n",
    "import time\n",
    "from selenium import webdriver\n",
    "import csv\n",
    "import urllib.request as req\n",
    "import random\n",
    "from datetime import datetime\n",
    "import pathlib\n",
    "\n",
    "from selenium.webdriver.common.by import *\n",
    "from selenium.webdriver.common.keys import Keys\n",
    "from selenium.webdriver.common.action_chains import ActionChains\n",
    "import csv\n",
    "import chromedriver_autoinstaller\n",
    "import pandas as pd\n",
    "import os\n"
   ]
  },
  {
   "cell_type": "code",
   "execution_count": null,
   "metadata": {},
   "outputs": [],
   "source": [
    "chromedriver_autoinstaller.install() \n",
    "options = webdriver.ChromeOptions() \n",
    "options.add_argument(\"--no-sandbox\")\n",
    "options.add_argument(\"--disable-dev-shm-usage\")\n",
    "options.add_argument(\"--disable-gpu\")\n",
    "options.add_argument(\"--disable-extensions\")\n",
    "options.add_experimental_option('excludeSwitches', ['enable-logging'])\n",
    "options.add_argument('--log-level=3')\n",
    "\n",
    "\n",
    "driver = webdriver.Chrome(options)\n",
    "driver.get('https://www.realtor.com/realestateagents/new-york_ny/photo-1/pg-1')"
   ]
  }
 ],
 "metadata": {
  "language_info": {
   "name": "python"
  },
  "orig_nbformat": 4
 },
 "nbformat": 4,
 "nbformat_minor": 2
}
